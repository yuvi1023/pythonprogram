{
  "metadata": {
    "language_info": {
      "codemirror_mode": {
        "name": "python",
        "version": 3
      },
      "file_extension": ".py",
      "mimetype": "text/x-python",
      "name": "python",
      "nbconvert_exporter": "python",
      "pygments_lexer": "ipython3",
      "version": "3.8"
    },
    "kernelspec": {
      "name": "python",
      "display_name": "Python (Pyodide)",
      "language": "python"
    }
  },
  "nbformat_minor": 4,
  "nbformat": 4,
  "cells": [
    {
      "cell_type": "code",
      "source": "# Python 3 code to find sum\n# of elements in given array\n\n\ndef _sum(arr):\n\n\t# initialize a variable\n\t# to store the sum\n\t# while iterating through\n\t# the array later\n\tsum = 0\n\n\t# iterate through the array\n\t# and add each element to the sum variable\n\t# one at a time\n\tfor i in arr:\n\t\tsum = sum + i\n\n\treturn(sum)\n\n\n# main function\nif __name__ == \"__main__\":\n\t# input values to list\n\tarr = [12, 3, 4, 15]\n\n\t# calculating length of array\n\tn = len(arr)\n\t# calling function ans store the sum in ans\n\tans = _sum(arr)\n\t# display sum\n\tprint('Sum of the array is ', ans)\n",
      "metadata": {
        "trusted": true
      },
      "execution_count": 1,
      "outputs": [
        {
          "name": "stdout",
          "text": "Sum of the array is  34\n",
          "output_type": "stream"
        }
      ]
    },
    {
      "cell_type": "code",
      "source": "",
      "metadata": {},
      "execution_count": null,
      "outputs": []
    }
  ]
}